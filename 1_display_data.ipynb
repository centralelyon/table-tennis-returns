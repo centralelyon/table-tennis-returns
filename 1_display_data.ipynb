{
 "cells": [
  {
   "cell_type": "markdown",
   "metadata": {},
   "source": [
    "# Affichage et exploration des données de tennis de table\n",
    "\n",
    "Ce notebook est dédié à l'exploration visuelle des données issues des matchs.  \n",
    "Il permet notamment de visualiser les vidéos des points isolés, d'afficher des figures statiques ou interactives, et d'explorer les clusters de rebonds sur la table.\n",
    "\n",
    "---\n",
    "\n",
    "## 1. Import des modules et connexion à la base de données\n",
    "\n",
    "On commence par importer les modules nécessaires et se connecter à la base de données."
   ]
  },
  {
   "cell_type": "code",
   "execution_count": 1,
   "metadata": {},
   "outputs": [],
   "source": [
    "import sqlite3\n",
    "import sys\n",
    "import os\n",
    "\n",
    "chemin_dossier_racine = os.path.abspath(os.path.join(os.getcwd(), \"..\"))\n",
    "sys.path.append(chemin_dossier_racine)\n",
    "\n",
    "from modules.data_processing import *\n",
    "from modules.data_interpretation import *\n",
    "from modules.figure_maker import *\n",
    "from modules.figure_module import *\n",
    "\n",
    "# Connexion à la base de données SQLite\n",
    "con = sqlite3.connect(\"BDD_avec_cluster.db\")"
   ]
  },
  {
   "cell_type": "markdown",
   "metadata": {},
   "source": [
    "---\n",
    "\n",
    "## 2. Affichage de figure statique\n",
    "\n",
    "La méthode `Figure.show()` permet l'affichage statique de données sur une table de tennis de table.\n",
    "Ici, on récupère les positions de service d'un joueur sur deux matchs, puis on les affiche."
   ]
  },
  {
   "cell_type": "code",
   "execution_count": 2,
   "metadata": {},
   "outputs": [],
   "source": [
    "# Récupération des données de service pour un joueur sur deux matchs\n",
    "requete_services = (\n",
    "    \"SELECT * FROM Liste_des_coups \"\n",
    "    \"WHERE num_coup = 1 \"\n",
    "    \"AND (Gamename='FAN-ZHENDONG_vs_ALEXIS-LEBRUN' OR Gamename='ALEXIS-LEBRUN_vs_FAN-ZHENDONG') \"\n",
    "    \"AND joueur_frappe='ALEXIS-LEBRUN'\"\n",
    ")\n",
    "\n",
    "df_service = pd.read_sql_query(requete_services, con)\n",
    "\n",
    "# Extraction des coordonnées des services (on filtre les valeurs NaN)\n",
    "positions_services = [\n",
    "    (df_service[\"coor_balle_x\"][i], df_service[\"coor_balle_y\"][i])\n",
    "    for i in range(len(df_service[\"coor_balle_x\"]))\n",
    "    if not math.isnan(df_service[\"coor_balle_x\"][i])\n",
    "]\n",
    "\n",
    "# Placement des rebonds du bon côté de la table\n",
    "_, positions_services, _, _ = place_on_side([], positions_services, [], [])"
   ]
  },
  {
   "cell_type": "code",
   "execution_count": 3,
   "metadata": {},
   "outputs": [
    {
     "data": {
      "application/vnd.plotly.v1+json": {
       "config": {
        "plotlyServerURL": "https://plot.ly"
       },
       "data": [
        {
         "fill": "toself",
         "fillcolor": "#add8e6",
         "line": {
          "color": "black",
          "width": 2
         },
         "mode": "lines",
         "showlegend": false,
         "type": "scatter",
         "x": [
          -76,
          76,
          76,
          -76,
          -76
         ],
         "y": [
          -137,
          -137,
          137,
          137,
          -137
         ]
        },
        {
         "line": {
          "color": "#d1f2f8",
          "width": 3
         },
         "mode": "lines",
         "showlegend": false,
         "type": "scatter",
         "x": [
          0,
          0
         ],
         "y": [
          -137,
          137
         ]
        },
        {
         "line": {
          "color": "black",
          "width": 8
         },
         "mode": "lines",
         "showlegend": false,
         "type": "scatter",
         "x": [
          -76,
          76
         ],
         "y": [
          0,
          0
         ]
        },
        {
         "marker": {
          "color": "yellow",
          "size": 10
         },
         "mode": "markers",
         "name": "Rebonds",
         "type": "scatter",
         "x": [
          -68.3,
          29.510773849487304,
          45.344604873657225,
          5.825048446655273,
          22.41202583312988,
          29.4172176361084,
          56.40326385498047,
          -50.8435492515564,
          -31.96032600402832,
          -4.028048706054688,
          36.00955314636231,
          -26.23998107910156,
          -16.423007583618165,
          31.163938522338867,
          17.877437782287597,
          -39.53363914489746,
          15.27216033935547,
          28.23911457061768,
          66.58692345619201,
          40.80648345947266,
          20.011194229125977,
          -57.02586240768433,
          42.94803504943848,
          -34.514313507080075,
          36.43542671203613,
          -54.02364149093628,
          33.55929069519043,
          -55.10584182739258,
          35.96586990356445,
          25.587939643859865,
          2.6659244537353515,
          -48.61348419189453,
          -67.76869125366211,
          49.57856531143189,
          56.31844863891602,
          34.10138473510742,
          36.41261749267578,
          -37.508597946166994,
          -61.69817733764648,
          -1.725238037109375,
          30.762541198730467,
          -37.81559104919434,
          -16.12856788635254,
          -10.802162170410156,
          51.09788618087769,
          16.328012657165527,
          -24.598224639892575,
          65.86024107933045,
          65.15963492393493,
          14.28072395324707,
          5.7611652374267575,
          -46.35423355102539,
          -37.91269874572754,
          46.26206893920899,
          5.428188323974609,
          4.146450805664062,
          -25.620055198669437,
          -51.66682653427124,
          25.270440673828126,
          48.89848709106445,
          15.298281860351562,
          45.80280055999756,
          59.47580413818359,
          45.29544582366943,
          -43.51870040893554,
          -64.57731399536132,
          21.189891624450684,
          62.88996539115906,
          7.721431732177734,
          60.419454956054686,
          46.46808395385742,
          -61.47171139717102,
          -53.662899589538576,
          27.852368927001955,
          -9.109873199462893,
          -38.56768283843994,
          -68.88715612888336,
          -33.793739318847656,
          -14.350144577026366,
          44.72596549987793,
          42.69050903320313,
          26.22896060943604,
          34.68503837585449,
          -22.07690715789795,
          32.451220703125,
          -56.36638460159302,
          42.023794174194336
         ],
         "y": [
          -45.558,
          -58.7541810353597,
          -55.20575714111328,
          -62.84734242757161,
          -45.24225222269694,
          -47.73684336344401,
          -65.32693456013997,
          -103.68258641560872,
          -98.91182174682618,
          -63.40406519571941,
          -43.09958031972249,
          -53.20124683380127,
          -100.22739241917928,
          -91.5876675605774,
          -65.31033722559611,
          -106.80233874320984,
          -60.72844072977702,
          -61.78087984720866,
          -63.35849329630534,
          -47.27544530232748,
          -39.75921758015951,
          -42.14083709716797,
          -34.98031756083171,
          -109.50052922566732,
          -65.21664568583171,
          -63.20688311258952,
          -65.17653074264527,
          -97.90899171829224,
          -38.641565004984535,
          -58.627560488382976,
          -59.7052853902181,
          -87.95890054702758,
          -121.33156309127808,
          -43.918219566345215,
          -54.65589803059896,
          -58.50947596232096,
          -62.485449981689456,
          -78.33735907872519,
          -82.40321391423544,
          -120.67604785760244,
          -50.16781501770019,
          -41.37965049743652,
          -133.95999713540078,
          -108.79916445414226,
          -56.30289713541666,
          -79.5921672185262,
          -49.71833254496256,
          -75.6394146601359,
          -44.575649960835776,
          -101.3683666229248,
          -71.52189512252808,
          -104.86669365564984,
          -79.60080776214599,
          -47.21686032613118,
          -61.542811965942384,
          -109.0034018198649,
          -80.65207099914551,
          -40.903601837158206,
          -60.042022705078125,
          -58.25487607320149,
          -54.97603365580241,
          -69.7143230120341,
          -49.00070578257243,
          -48.40726941426595,
          -46.07310320536296,
          -90.83045282363892,
          -63.70475959777832,
          -72.34888747533162,
          -48.29801705678304,
          -62.92042121887207,
          -54.2228256225586,
          -118.94100252787273,
          -78.55717468261719,
          -65.59268353780111,
          -98.63851229349773,
          -115.99123242696126,
          -51.27685317993164,
          -82.95402679443359,
          -100.7505677541097,
          -74.08870709737143,
          -55.88501536051432,
          -52.0850227355957,
          -66.00369729995728,
          -113.86740074157714,
          -58.07074190775553,
          -86.67245686848959,
          -61.601588567097984
         ]
        }
       ],
       "layout": {
        "height": 520,
        "margin": {
         "b": 0,
         "l": 0,
         "r": 0,
         "t": 0
        },
        "paper_bgcolor": "rgba(0,0,0,0)",
        "plot_bgcolor": "rgba(0,0,0,0)",
        "showlegend": false,
        "template": {
         "data": {
          "bar": [
           {
            "error_x": {
             "color": "#2a3f5f"
            },
            "error_y": {
             "color": "#2a3f5f"
            },
            "marker": {
             "line": {
              "color": "#E5ECF6",
              "width": 0.5
             },
             "pattern": {
              "fillmode": "overlay",
              "size": 10,
              "solidity": 0.2
             }
            },
            "type": "bar"
           }
          ],
          "barpolar": [
           {
            "marker": {
             "line": {
              "color": "#E5ECF6",
              "width": 0.5
             },
             "pattern": {
              "fillmode": "overlay",
              "size": 10,
              "solidity": 0.2
             }
            },
            "type": "barpolar"
           }
          ],
          "carpet": [
           {
            "aaxis": {
             "endlinecolor": "#2a3f5f",
             "gridcolor": "white",
             "linecolor": "white",
             "minorgridcolor": "white",
             "startlinecolor": "#2a3f5f"
            },
            "baxis": {
             "endlinecolor": "#2a3f5f",
             "gridcolor": "white",
             "linecolor": "white",
             "minorgridcolor": "white",
             "startlinecolor": "#2a3f5f"
            },
            "type": "carpet"
           }
          ],
          "choropleth": [
           {
            "colorbar": {
             "outlinewidth": 0,
             "ticks": ""
            },
            "type": "choropleth"
           }
          ],
          "contour": [
           {
            "colorbar": {
             "outlinewidth": 0,
             "ticks": ""
            },
            "colorscale": [
             [
              0,
              "#0d0887"
             ],
             [
              0.1111111111111111,
              "#46039f"
             ],
             [
              0.2222222222222222,
              "#7201a8"
             ],
             [
              0.3333333333333333,
              "#9c179e"
             ],
             [
              0.4444444444444444,
              "#bd3786"
             ],
             [
              0.5555555555555556,
              "#d8576b"
             ],
             [
              0.6666666666666666,
              "#ed7953"
             ],
             [
              0.7777777777777778,
              "#fb9f3a"
             ],
             [
              0.8888888888888888,
              "#fdca26"
             ],
             [
              1,
              "#f0f921"
             ]
            ],
            "type": "contour"
           }
          ],
          "contourcarpet": [
           {
            "colorbar": {
             "outlinewidth": 0,
             "ticks": ""
            },
            "type": "contourcarpet"
           }
          ],
          "heatmap": [
           {
            "colorbar": {
             "outlinewidth": 0,
             "ticks": ""
            },
            "colorscale": [
             [
              0,
              "#0d0887"
             ],
             [
              0.1111111111111111,
              "#46039f"
             ],
             [
              0.2222222222222222,
              "#7201a8"
             ],
             [
              0.3333333333333333,
              "#9c179e"
             ],
             [
              0.4444444444444444,
              "#bd3786"
             ],
             [
              0.5555555555555556,
              "#d8576b"
             ],
             [
              0.6666666666666666,
              "#ed7953"
             ],
             [
              0.7777777777777778,
              "#fb9f3a"
             ],
             [
              0.8888888888888888,
              "#fdca26"
             ],
             [
              1,
              "#f0f921"
             ]
            ],
            "type": "heatmap"
           }
          ],
          "histogram": [
           {
            "marker": {
             "pattern": {
              "fillmode": "overlay",
              "size": 10,
              "solidity": 0.2
             }
            },
            "type": "histogram"
           }
          ],
          "histogram2d": [
           {
            "colorbar": {
             "outlinewidth": 0,
             "ticks": ""
            },
            "colorscale": [
             [
              0,
              "#0d0887"
             ],
             [
              0.1111111111111111,
              "#46039f"
             ],
             [
              0.2222222222222222,
              "#7201a8"
             ],
             [
              0.3333333333333333,
              "#9c179e"
             ],
             [
              0.4444444444444444,
              "#bd3786"
             ],
             [
              0.5555555555555556,
              "#d8576b"
             ],
             [
              0.6666666666666666,
              "#ed7953"
             ],
             [
              0.7777777777777778,
              "#fb9f3a"
             ],
             [
              0.8888888888888888,
              "#fdca26"
             ],
             [
              1,
              "#f0f921"
             ]
            ],
            "type": "histogram2d"
           }
          ],
          "histogram2dcontour": [
           {
            "colorbar": {
             "outlinewidth": 0,
             "ticks": ""
            },
            "colorscale": [
             [
              0,
              "#0d0887"
             ],
             [
              0.1111111111111111,
              "#46039f"
             ],
             [
              0.2222222222222222,
              "#7201a8"
             ],
             [
              0.3333333333333333,
              "#9c179e"
             ],
             [
              0.4444444444444444,
              "#bd3786"
             ],
             [
              0.5555555555555556,
              "#d8576b"
             ],
             [
              0.6666666666666666,
              "#ed7953"
             ],
             [
              0.7777777777777778,
              "#fb9f3a"
             ],
             [
              0.8888888888888888,
              "#fdca26"
             ],
             [
              1,
              "#f0f921"
             ]
            ],
            "type": "histogram2dcontour"
           }
          ],
          "mesh3d": [
           {
            "colorbar": {
             "outlinewidth": 0,
             "ticks": ""
            },
            "type": "mesh3d"
           }
          ],
          "parcoords": [
           {
            "line": {
             "colorbar": {
              "outlinewidth": 0,
              "ticks": ""
             }
            },
            "type": "parcoords"
           }
          ],
          "pie": [
           {
            "automargin": true,
            "type": "pie"
           }
          ],
          "scatter": [
           {
            "fillpattern": {
             "fillmode": "overlay",
             "size": 10,
             "solidity": 0.2
            },
            "type": "scatter"
           }
          ],
          "scatter3d": [
           {
            "line": {
             "colorbar": {
              "outlinewidth": 0,
              "ticks": ""
             }
            },
            "marker": {
             "colorbar": {
              "outlinewidth": 0,
              "ticks": ""
             }
            },
            "type": "scatter3d"
           }
          ],
          "scattercarpet": [
           {
            "marker": {
             "colorbar": {
              "outlinewidth": 0,
              "ticks": ""
             }
            },
            "type": "scattercarpet"
           }
          ],
          "scattergeo": [
           {
            "marker": {
             "colorbar": {
              "outlinewidth": 0,
              "ticks": ""
             }
            },
            "type": "scattergeo"
           }
          ],
          "scattergl": [
           {
            "marker": {
             "colorbar": {
              "outlinewidth": 0,
              "ticks": ""
             }
            },
            "type": "scattergl"
           }
          ],
          "scattermap": [
           {
            "marker": {
             "colorbar": {
              "outlinewidth": 0,
              "ticks": ""
             }
            },
            "type": "scattermap"
           }
          ],
          "scattermapbox": [
           {
            "marker": {
             "colorbar": {
              "outlinewidth": 0,
              "ticks": ""
             }
            },
            "type": "scattermapbox"
           }
          ],
          "scatterpolar": [
           {
            "marker": {
             "colorbar": {
              "outlinewidth": 0,
              "ticks": ""
             }
            },
            "type": "scatterpolar"
           }
          ],
          "scatterpolargl": [
           {
            "marker": {
             "colorbar": {
              "outlinewidth": 0,
              "ticks": ""
             }
            },
            "type": "scatterpolargl"
           }
          ],
          "scatterternary": [
           {
            "marker": {
             "colorbar": {
              "outlinewidth": 0,
              "ticks": ""
             }
            },
            "type": "scatterternary"
           }
          ],
          "surface": [
           {
            "colorbar": {
             "outlinewidth": 0,
             "ticks": ""
            },
            "colorscale": [
             [
              0,
              "#0d0887"
             ],
             [
              0.1111111111111111,
              "#46039f"
             ],
             [
              0.2222222222222222,
              "#7201a8"
             ],
             [
              0.3333333333333333,
              "#9c179e"
             ],
             [
              0.4444444444444444,
              "#bd3786"
             ],
             [
              0.5555555555555556,
              "#d8576b"
             ],
             [
              0.6666666666666666,
              "#ed7953"
             ],
             [
              0.7777777777777778,
              "#fb9f3a"
             ],
             [
              0.8888888888888888,
              "#fdca26"
             ],
             [
              1,
              "#f0f921"
             ]
            ],
            "type": "surface"
           }
          ],
          "table": [
           {
            "cells": {
             "fill": {
              "color": "#EBF0F8"
             },
             "line": {
              "color": "white"
             }
            },
            "header": {
             "fill": {
              "color": "#C8D4E3"
             },
             "line": {
              "color": "white"
             }
            },
            "type": "table"
           }
          ]
         },
         "layout": {
          "annotationdefaults": {
           "arrowcolor": "#2a3f5f",
           "arrowhead": 0,
           "arrowwidth": 1
          },
          "autotypenumbers": "strict",
          "coloraxis": {
           "colorbar": {
            "outlinewidth": 0,
            "ticks": ""
           }
          },
          "colorscale": {
           "diverging": [
            [
             0,
             "#8e0152"
            ],
            [
             0.1,
             "#c51b7d"
            ],
            [
             0.2,
             "#de77ae"
            ],
            [
             0.3,
             "#f1b6da"
            ],
            [
             0.4,
             "#fde0ef"
            ],
            [
             0.5,
             "#f7f7f7"
            ],
            [
             0.6,
             "#e6f5d0"
            ],
            [
             0.7,
             "#b8e186"
            ],
            [
             0.8,
             "#7fbc41"
            ],
            [
             0.9,
             "#4d9221"
            ],
            [
             1,
             "#276419"
            ]
           ],
           "sequential": [
            [
             0,
             "#0d0887"
            ],
            [
             0.1111111111111111,
             "#46039f"
            ],
            [
             0.2222222222222222,
             "#7201a8"
            ],
            [
             0.3333333333333333,
             "#9c179e"
            ],
            [
             0.4444444444444444,
             "#bd3786"
            ],
            [
             0.5555555555555556,
             "#d8576b"
            ],
            [
             0.6666666666666666,
             "#ed7953"
            ],
            [
             0.7777777777777778,
             "#fb9f3a"
            ],
            [
             0.8888888888888888,
             "#fdca26"
            ],
            [
             1,
             "#f0f921"
            ]
           ],
           "sequentialminus": [
            [
             0,
             "#0d0887"
            ],
            [
             0.1111111111111111,
             "#46039f"
            ],
            [
             0.2222222222222222,
             "#7201a8"
            ],
            [
             0.3333333333333333,
             "#9c179e"
            ],
            [
             0.4444444444444444,
             "#bd3786"
            ],
            [
             0.5555555555555556,
             "#d8576b"
            ],
            [
             0.6666666666666666,
             "#ed7953"
            ],
            [
             0.7777777777777778,
             "#fb9f3a"
            ],
            [
             0.8888888888888888,
             "#fdca26"
            ],
            [
             1,
             "#f0f921"
            ]
           ]
          },
          "colorway": [
           "#636efa",
           "#EF553B",
           "#00cc96",
           "#ab63fa",
           "#FFA15A",
           "#19d3f3",
           "#FF6692",
           "#B6E880",
           "#FF97FF",
           "#FECB52"
          ],
          "font": {
           "color": "#2a3f5f"
          },
          "geo": {
           "bgcolor": "white",
           "lakecolor": "white",
           "landcolor": "#E5ECF6",
           "showlakes": true,
           "showland": true,
           "subunitcolor": "white"
          },
          "hoverlabel": {
           "align": "left"
          },
          "hovermode": "closest",
          "mapbox": {
           "style": "light"
          },
          "paper_bgcolor": "white",
          "plot_bgcolor": "#E5ECF6",
          "polar": {
           "angularaxis": {
            "gridcolor": "white",
            "linecolor": "white",
            "ticks": ""
           },
           "bgcolor": "#E5ECF6",
           "radialaxis": {
            "gridcolor": "white",
            "linecolor": "white",
            "ticks": ""
           }
          },
          "scene": {
           "xaxis": {
            "backgroundcolor": "#E5ECF6",
            "gridcolor": "white",
            "gridwidth": 2,
            "linecolor": "white",
            "showbackground": true,
            "ticks": "",
            "zerolinecolor": "white"
           },
           "yaxis": {
            "backgroundcolor": "#E5ECF6",
            "gridcolor": "white",
            "gridwidth": 2,
            "linecolor": "white",
            "showbackground": true,
            "ticks": "",
            "zerolinecolor": "white"
           },
           "zaxis": {
            "backgroundcolor": "#E5ECF6",
            "gridcolor": "white",
            "gridwidth": 2,
            "linecolor": "white",
            "showbackground": true,
            "ticks": "",
            "zerolinecolor": "white"
           }
          },
          "shapedefaults": {
           "line": {
            "color": "#2a3f5f"
           }
          },
          "ternary": {
           "aaxis": {
            "gridcolor": "white",
            "linecolor": "white",
            "ticks": ""
           },
           "baxis": {
            "gridcolor": "white",
            "linecolor": "white",
            "ticks": ""
           },
           "bgcolor": "#E5ECF6",
           "caxis": {
            "gridcolor": "white",
            "linecolor": "white",
            "ticks": ""
           }
          },
          "title": {
           "x": 0.05
          },
          "xaxis": {
           "automargin": true,
           "gridcolor": "white",
           "linecolor": "white",
           "ticks": "",
           "title": {
            "standoff": 15
           },
           "zerolinecolor": "white",
           "zerolinewidth": 2
          },
          "yaxis": {
           "automargin": true,
           "gridcolor": "white",
           "linecolor": "white",
           "ticks": "",
           "title": {
            "standoff": 15
           },
           "zerolinecolor": "white",
           "zerolinewidth": 2
          }
         }
        },
        "width": 320,
        "xaxis": {
         "scaleanchor": "y",
         "scaleratio": 1,
         "showgrid": false,
         "visible": false,
         "zeroline": false
        },
        "yaxis": {
         "showgrid": false,
         "visible": false,
         "zeroline": false
        }
       }
      }
     },
     "metadata": {},
     "output_type": "display_data"
    }
   ],
   "source": [
    "# Affichage des positions de service sur une figure statique\n",
    "figure = Figure()\n",
    "figure.add_positions_rebonds([positions_services], [0])\n",
    "figure.show()"
   ]
  },
  {
   "cell_type": "markdown",
   "metadata": {},
   "source": [
    "---\n",
    "\n",
    "## 3. Affichage interactif des données pour tous les joueurs\n",
    "\n",
    "La méthode `Figure.show_global_test_with_video()` permet d'afficher une figure interactive associée à un menu déroulant pour choisir le joueur, l'effet, et le numéro de coup.  \n",
    "On y retrouve également la table de contingence et la p-value du test du $\\chi^2$."
   ]
  },
  {
   "cell_type": "code",
   "execution_count": 4,
   "metadata": {},
   "outputs": [
    {
     "name": "stdout",
     "output_type": "stream",
     "text": [
      "L'application est disponible à l'adresse suivante : http://127.0.0.1:59078\n"
     ]
    },
    {
     "data": {
      "text/html": [
       "\n",
       "        <iframe\n",
       "            width=\"100%\"\n",
       "            height=\"650\"\n",
       "            src=\"http://127.0.0.1:59078/\"\n",
       "            frameborder=\"0\"\n",
       "            allowfullscreen\n",
       "            \n",
       "        ></iframe>\n",
       "        "
      ],
      "text/plain": [
       "<IPython.lib.display.IFrame at 0x1c529459ad0>"
      ]
     },
     "metadata": {},
     "output_type": "display_data"
    }
   ],
   "source": [
    "# Récupération des listes pour le menu déroulant interactif\n",
    "joueurs = figure.get_list_joueurs()  # Liste des joueurs\n",
    "effets = figure.get_list_effets()  # Liste des effets\n",
    "num_coups = figure.get_list_num_coups()  # Liste des numéros de coups\n",
    "joueur_initial = joueurs[0]  # Joueur par défaut\n",
    "\n",
    "# Affichage interactif avec Dash\n",
    "figure.show_global_test_with_video(joueurs, joueur_initial, effets, num_coups)"
   ]
  },
  {
   "cell_type": "markdown",
   "metadata": {},
   "source": [
    "---\n",
    "\n",
    "## 4. Affichage interactif des vidéos associées aux points\n",
    "\n",
    "La méthode `Figure.show_data_with_video()` permet d'afficher la figure et d'accéder aux vidéos des points associés."
   ]
  },
  {
   "cell_type": "code",
   "execution_count": 5,
   "metadata": {},
   "outputs": [
    {
     "name": "stdout",
     "output_type": "stream",
     "text": [
      "L'application est disponible à l'adresse suivante : http://127.0.0.1:59081\n"
     ]
    },
    {
     "data": {
      "text/html": [
       "\n",
       "        <iframe\n",
       "            width=\"100%\"\n",
       "            height=\"650\"\n",
       "            src=\"http://127.0.0.1:59081/\"\n",
       "            frameborder=\"0\"\n",
       "            allowfullscreen\n",
       "            \n",
       "        ></iframe>\n",
       "        "
      ],
      "text/plain": [
       "<IPython.lib.display.IFrame at 0x1c529ac1890>"
      ]
     },
     "metadata": {},
     "output_type": "display_data"
    }
   ],
   "source": [
    "figure.show_data_with_video()"
   ]
  }
 ],
 "metadata": {
  "kernelspec": {
   "display_name": "venv",
   "language": "python",
   "name": "python3"
  },
  "language_info": {
   "codemirror_mode": {
    "name": "ipython",
    "version": 3
   },
   "file_extension": ".py",
   "mimetype": "text/x-python",
   "name": "python",
   "nbconvert_exporter": "python",
   "pygments_lexer": "ipython3",
   "version": "3.11.9"
  }
 },
 "nbformat": 4,
 "nbformat_minor": 2
}
